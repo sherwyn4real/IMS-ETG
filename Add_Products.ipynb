{
 "cells": [
  {
   "cell_type": "code",
   "execution_count": 1,
   "id": "9d78aed6",
   "metadata": {},
   "outputs": [
    {
     "name": "stdout",
     "output_type": "stream",
     "text": [
      "Enter the product id: 191105035\n",
      "Enter product name: cupcake\n",
      "Enter the price: 15\n",
      "Enter the manufactured date: 2021/09/2\n",
      "Enter the expiry date: 2021/09/12\n",
      "Enter the quantity: 5\n",
      "Enter the catgeory of the product: food\n"
     ]
    }
   ],
   "source": [
    "import json\n",
    "\n",
    "prod_id = input(\"Enter the product id: \")\n",
    "name = input(\"Enter product name: \")\n",
    "mrp = int(input(\"Enter the price: \"))\n",
    "mfg = input(\"Enter the manufactured date: \")\n",
    "exp = input(\"Enter the expiry date: \")\n",
    "quant = int(input(\"Enter the quantity: \"))\n",
    "category = input(\"Enter the catgeory of the product: \")\n",
    "\n",
    "f = open(\"records.json\",'r')\n",
    "txt = f.read()\n",
    "f.close()\n",
    "inventory = json.loads(txt)\n",
    "\n",
    "if prod_id in inventory:\n",
    "    inventory[prod_id]['quant'] += quant\n",
    "    \n",
    "else:\n",
    "    inventory[prod_id] = {'prod_name': name, 'quant':quant, 'MRP': mrp, 'mfg':mfg, 'exp':exp, 'category': category}\n",
    "    \n",
    "\n",
    "f = open(\"records.json\",'w')\n",
    "js = json.dumps(inventory)\n",
    "f.write(js)\n",
    "f.close()\n",
    "    "
   ]
  },
  {
   "cell_type": "code",
   "execution_count": null,
   "id": "62d02d5c",
   "metadata": {},
   "outputs": [],
   "source": []
  }
 ],
 "metadata": {
  "kernelspec": {
   "display_name": "Python 3",
   "language": "python",
   "name": "python3"
  },
  "language_info": {
   "codemirror_mode": {
    "name": "ipython",
    "version": 3
   },
   "file_extension": ".py",
   "mimetype": "text/x-python",
   "name": "python",
   "nbconvert_exporter": "python",
   "pygments_lexer": "ipython3",
   "version": "3.8.8"
  }
 },
 "nbformat": 4,
 "nbformat_minor": 5
}
